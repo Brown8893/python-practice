{
  "nbformat": 4,
  "nbformat_minor": 0,
  "metadata": {
    "colab": {
      "name": "P2_2.ipynb",
      "version": "0.3.2",
      "provenance": [],
      "include_colab_link": true
    },
    "kernelspec": {
      "name": "python3",
      "display_name": "Python 3"
    }
  },
  "cells": [
    {
      "cell_type": "markdown",
      "metadata": {
        "id": "view-in-github",
        "colab_type": "text"
      },
      "source": [
        "<a href=\"https://colab.research.google.com/github/Brown8893/python-practice/blob/master/P2_2.ipynb\" target=\"_parent\"><img src=\"https://colab.research.google.com/assets/colab-badge.svg\" alt=\"Open In Colab\"/></a>"
      ]
    },
    {
      "metadata": {
        "id": "fjBBkYedkVuE",
        "colab_type": "code",
        "colab": {
          "base_uri": "https://localhost:8080/",
          "height": 54
        },
        "outputId": "17074ea3-a156-4091-f7e1-a5c7c2aa41f4"
      },
      "cell_type": "code",
      "source": [
        "#!/usr/bin/env python\n",
        "#coding=utf-8\n",
        " \n",
        "list1 = ['physics', 'chemistry', 1999, 2018]\n",
        "list2 = [1, 2, 3, 4, 5, 6, 7, 8, 9]\n",
        " \n",
        "print(\"list1[3]: \", list1[3])\n",
        "print(\"list2[3:5]: \", list2[3:5])"
      ],
      "execution_count": 7,
      "outputs": [
        {
          "output_type": "stream",
          "text": [
            "list1[3]:  2018\n",
            "list2[3:5]:  [4, 5]\n"
          ],
          "name": "stdout"
        }
      ]
    },
    {
      "metadata": {
        "id": "waaibhoLlC69",
        "colab_type": "text"
      },
      "cell_type": "markdown",
      "source": [
        "P2_2"
      ]
    }
  ]
}