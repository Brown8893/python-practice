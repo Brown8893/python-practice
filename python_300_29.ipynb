{
  "nbformat": 4,
  "nbformat_minor": 0,
  "metadata": {
    "colab": {
      "name": "python_300_29.ipynb",
      "version": "0.3.2",
      "provenance": [],
      "include_colab_link": true
    },
    "kernelspec": {
      "name": "python3",
      "display_name": "Python 3"
    }
  },
  "cells": [
    {
      "cell_type": "markdown",
      "metadata": {
        "id": "view-in-github",
        "colab_type": "text"
      },
      "source": [
        "<a href=\"https://colab.research.google.com/github/Brown8893/python-practice/blob/master/python_300_29.ipynb\" target=\"_parent\"><img src=\"https://colab.research.google.com/assets/colab-badge.svg\" alt=\"Open In Colab\"/></a>"
      ]
    },
    {
      "metadata": {
        "id": "wjsqWadpGqIl",
        "colab_type": "code",
        "colab": {
          "base_uri": "https://localhost:8080/",
          "height": 72
        },
        "outputId": "5f18d38e-c1ff-48ed-f2d8-ddf02c16552f"
      },
      "cell_type": "code",
      "source": [
        "#我的python練習(Ch4-4.8)\n",
        "# Receive an input\n",
        "number = eval(input(\"Enter an integer: \"))\n",
        "\n",
        "if number % 2 == 0 and number % 3 == 0:\n",
        "    print(number, \"is divisible by 2 and 3\")\n",
        "\n",
        "if number % 2 == 0 or number % 3 == 0:\n",
        "    print(number, \"is divisible by 2 or 3\")\n",
        "\n",
        "if (number % 2 == 0 or number % 3 == 0) and \\\n",
        "       not (number % 2 == 0 and number % 3 == 0):\n",
        "    print(number, \"divisible by 2 or 3, but not both\")"
      ],
      "execution_count": 1,
      "outputs": [
        {
          "output_type": "stream",
          "text": [
            "Enter an integer: 20\n",
            "20 is divisible by 2 or 3\n",
            "20 divisible by 2 or 3, but not both\n"
          ],
          "name": "stdout"
        }
      ]
    },
    {
      "metadata": {
        "id": "3OVJwTALG4L6",
        "colab_type": "text"
      },
      "cell_type": "markdown",
      "source": [
        "Chapter 4_practice 4.8"
      ]
    }
  ]
}