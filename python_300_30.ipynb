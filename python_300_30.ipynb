{
  "nbformat": 4,
  "nbformat_minor": 0,
  "metadata": {
    "colab": {
      "name": "python_300_30.ipynb",
      "version": "0.3.2",
      "provenance": [],
      "include_colab_link": true
    },
    "kernelspec": {
      "name": "python3",
      "display_name": "Python 3"
    }
  },
  "cells": [
    {
      "cell_type": "markdown",
      "metadata": {
        "id": "view-in-github",
        "colab_type": "text"
      },
      "source": [
        "<a href=\"https://colab.research.google.com/github/Brown8893/python-practice/blob/master/python_300_30.ipynb\" target=\"_parent\"><img src=\"https://colab.research.google.com/assets/colab-badge.svg\" alt=\"Open In Colab\"/></a>"
      ]
    },
    {
      "metadata": {
        "id": "w_YUCrdnHC1M",
        "colab_type": "code",
        "colab": {
          "base_uri": "https://localhost:8080/",
          "height": 54
        },
        "outputId": "25f79c9d-c1a2-4565-cb39-44c17283e6e1"
      },
      "cell_type": "code",
      "source": [
        "#我的python練習(Ch4-4.9)\n",
        "year = eval(input(\"Enter a year: \"))\n",
        "\n",
        "# Check if the year is a leap year \n",
        "isLeapYear = (year % 4 == 0 and year % 100 != 0) or \\\n",
        "   (year % 400 == 0)\n",
        "\n",
        "# Display the result \n",
        "print(year, \"is a leap year?\", isLeapYear)"
      ],
      "execution_count": 1,
      "outputs": [
        {
          "output_type": "stream",
          "text": [
            "Enter a year: 1999\n",
            "1999 is a leap year? False\n"
          ],
          "name": "stdout"
        }
      ]
    },
    {
      "metadata": {
        "id": "V3ASGAZ2HQaS",
        "colab_type": "text"
      },
      "cell_type": "markdown",
      "source": [
        "Chapter 4_practice 4.9"
      ]
    }
  ]
}