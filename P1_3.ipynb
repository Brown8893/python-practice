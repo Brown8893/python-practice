{
  "nbformat": 4,
  "nbformat_minor": 0,
  "metadata": {
    "colab": {
      "name": "P1_3.ipynb",
      "version": "0.3.2",
      "provenance": [],
      "include_colab_link": true
    },
    "kernelspec": {
      "name": "python3",
      "display_name": "Python 3"
    }
  },
  "cells": [
    {
      "cell_type": "markdown",
      "metadata": {
        "id": "view-in-github",
        "colab_type": "text"
      },
      "source": [
        "<a href=\"https://colab.research.google.com/github/Brown8893/python-practice/blob/master/P1_3.ipynb\" target=\"_parent\"><img src=\"https://colab.research.google.com/assets/colab-badge.svg\" alt=\"Open In Colab\"/></a>"
      ]
    },
    {
      "metadata": {
        "id": "uIUvi3jyZOQc",
        "colab_type": "code",
        "colab": {
          "base_uri": "https://localhost:8080/",
          "height": 90
        },
        "outputId": "44c26a05-85fd-4001-ef33-2d28cfbbc709"
      },
      "cell_type": "code",
      "source": [
        "#!/usr/bin/env python\n",
        "#coding=utf-8\n",
        "q = 300\n",
        "p = 0.052\n",
        "print(q, p, p * q)\n",
        "print(q, p, p * q, sep=\",\")\n",
        "print(q, p, p * q, sep=\" :-) \")\n",
        "print(str(q) + \" \" + str(p) + \" \" + str(p * q))"
      ],
      "execution_count": 3,
      "outputs": [
        {
          "output_type": "stream",
          "text": [
            "300 0.052 15.6\n",
            "300,0.052,15.6\n",
            "300 :-) 0.052 :-) 15.6\n",
            "300 0.052 15.6\n"
          ],
          "name": "stdout"
        }
      ]
    },
    {
      "metadata": {
        "id": "euNVkFplZgex",
        "colab_type": "text"
      },
      "cell_type": "markdown",
      "source": [
        "P1_3"
      ]
    }
  ]
}