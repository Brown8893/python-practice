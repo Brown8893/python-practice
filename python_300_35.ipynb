{
  "nbformat": 4,
  "nbformat_minor": 0,
  "metadata": {
    "colab": {
      "name": "python_300_35.ipynb",
      "version": "0.3.2",
      "provenance": [],
      "include_colab_link": true
    },
    "kernelspec": {
      "name": "python3",
      "display_name": "Python 3"
    }
  },
  "cells": [
    {
      "cell_type": "markdown",
      "metadata": {
        "id": "view-in-github",
        "colab_type": "text"
      },
      "source": [
        "<a href=\"https://colab.research.google.com/github/Brown8893/python-practice/blob/master/python_300_35.ipynb\" target=\"_parent\"><img src=\"https://colab.research.google.com/assets/colab-badge.svg\" alt=\"Open In Colab\"/></a>"
      ]
    },
    {
      "metadata": {
        "id": "dPEqELJJMmZk",
        "colab_type": "code",
        "colab": {
          "base_uri": "https://localhost:8080/",
          "height": 217
        },
        "outputId": "b052d674-777c-4c08-8ca4-a187a666fe6d"
      },
      "cell_type": "code",
      "source": [
        "#我的python練習(Ch5-5.3)\n",
        "import random\n",
        "\n",
        "# Generate a random number to be guessed\n",
        "number = random.randint(1, 100)\n",
        "\n",
        "print(\"Guess a magic number between 0 and 100\")\n",
        "\n",
        "guess = -1\n",
        "while guess != number:\n",
        "    # Prompt the user to guess the number\n",
        "    guess = eval(input(\"Enter your guess: \"))\n",
        "\n",
        "    if guess == number:\n",
        "        print(\"Yes, the number is\", number)\n",
        "    elif guess > number:\n",
        "        print(\"Your guess is too high\")\n",
        "    else:\n",
        "        print(\"Your guess is too low\")"
      ],
      "execution_count": 1,
      "outputs": [
        {
          "output_type": "stream",
          "text": [
            "Guess a magic number between 0 and 100\n",
            "Enter your guess: 20\n",
            "Your guess is too high\n",
            "Enter your guess: 33\n",
            "Your guess is too high\n",
            "Enter your guess: 15\n",
            "Your guess is too low\n",
            "Enter your guess: 18\n",
            "Your guess is too low\n",
            "Enter your guess: 19\n",
            "Yes, the number is 19\n"
          ],
          "name": "stdout"
        }
      ]
    },
    {
      "metadata": {
        "id": "HqLYOQNtNUHZ",
        "colab_type": "text"
      },
      "cell_type": "markdown",
      "source": [
        "Chapter 5_practice 5.3"
      ]
    }
  ]
}