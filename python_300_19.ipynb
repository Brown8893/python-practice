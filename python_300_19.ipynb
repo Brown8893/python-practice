{
  "nbformat": 4,
  "nbformat_minor": 0,
  "metadata": {
    "colab": {
      "name": "python 300_19.ipynb",
      "version": "0.3.2",
      "provenance": [],
      "collapsed_sections": [],
      "include_colab_link": true
    },
    "kernelspec": {
      "name": "python3",
      "display_name": "Python 3"
    }
  },
  "cells": [
    {
      "cell_type": "markdown",
      "metadata": {
        "id": "view-in-github",
        "colab_type": "text"
      },
      "source": [
        "<a href=\"https://colab.research.google.com/github/Brown8893/python-practice/blob/master/python_300_19.ipynb\" target=\"_parent\"><img src=\"https://colab.research.google.com/assets/colab-badge.svg\" alt=\"Open In Colab\"/></a>"
      ]
    },
    {
      "metadata": {
        "id": "0F2X4MxPKyfe",
        "colab_type": "code",
        "colab": {
          "base_uri": "https://localhost:8080/",
          "height": 143
        },
        "outputId": "f22ecd25-7416-4831-92e6-f4943c866e7f"
      },
      "cell_type": "code",
      "source": [
        "#我的python練習(Ch3-3.4)\n",
        "# Receive the amount \n",
        "amount = eval(input(\"Enter an amount in double, e.g., 11.56: \"))\n",
        "\n",
        "# Convert the amount to cents\n",
        "remainingAmount = int(amount * 100)\n",
        "\n",
        "# Find the number of one dollars\n",
        "numberOfOneDollars = int(remainingAmount / 100)\n",
        "remainingAmount = int(remainingAmount % 100)\n",
        "\n",
        "# Find the number of quarters in the remaining amount\n",
        "numberOfQuarters = int(remainingAmount / 25)\n",
        "remainingAmount = remainingAmount % 25\n",
        "\n",
        "# Find the number of dimes in the remaining amount\n",
        "numberOfDimes = int(remainingAmount / 10)\n",
        "remainingAmount = remainingAmount % 10\n",
        "\n",
        "# Find the number of nickels in the remaining amount\n",
        "numberOfNickels = int(remainingAmount / 5)\n",
        "remainingAmount = remainingAmount % 5\n",
        "\n",
        "# Find the number of pennies in the remaining amount\n",
        "numberOfPennies = remainingAmount\n",
        "\n",
        "# Display results\n",
        "print(\"Your amount\", amount, \"consists of\\n\", \n",
        "    \"\\t\", numberOfOneDollars, \"dollars\\n\", \n",
        "    \"\\t\", numberOfQuarters, \"quarters\\n\",\n",
        "    \"\\t\", numberOfDimes,  \"dimes\\n\",\n",
        "    \"\\t\", numberOfNickels, \"nickels\\n\",\n",
        "    \"\\t\", numberOfPennies, \"pennies\")"
      ],
      "execution_count": 2,
      "outputs": [
        {
          "output_type": "stream",
          "text": [
            "Enter an amount in double, e.g., 11.56: 9.84\n",
            "Your amount 9.84 consists of\n",
            " \t 9 dollars\n",
            " \t 3 quarters\n",
            " \t 0 dimes\n",
            " \t 1 nickels\n",
            " \t 4 pennies\n"
          ],
          "name": "stdout"
        }
      ]
    },
    {
      "metadata": {
        "id": "M826cMebLSKA",
        "colab_type": "text"
      },
      "cell_type": "markdown",
      "source": [
        "Chapter 3_practice 3.4"
      ]
    }
  ]
}