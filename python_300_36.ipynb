{
  "nbformat": 4,
  "nbformat_minor": 0,
  "metadata": {
    "colab": {
      "name": "python_300_36.ipynb",
      "version": "0.3.2",
      "provenance": [],
      "include_colab_link": true
    },
    "kernelspec": {
      "name": "python3",
      "display_name": "Python 3"
    }
  },
  "cells": [
    {
      "cell_type": "markdown",
      "metadata": {
        "id": "view-in-github",
        "colab_type": "text"
      },
      "source": [
        "<a href=\"https://colab.research.google.com/github/Brown8893/python-practice/blob/master/python_300_36.ipynb\" target=\"_parent\"><img src=\"https://colab.research.google.com/assets/colab-badge.svg\" alt=\"Open In Colab\"/></a>"
      ]
    },
    {
      "metadata": {
        "id": "9GrJQ9WmNttE",
        "colab_type": "code",
        "colab": {
          "base_uri": "https://localhost:8080/",
          "height": 290
        },
        "outputId": "e890a7b2-17a9-4927-95cd-12eb9450d994"
      },
      "cell_type": "code",
      "source": [
        "#我的python練習(Ch5-5.4)\n",
        "import random\n",
        "import time\n",
        "\n",
        "correctCount = 0 # Count the number of correct answers\n",
        "count = 0 # Count the number of questions\n",
        "NUMBER_OF_QUESTIONS = 5 # Constant\n",
        "\n",
        "startTime = time.time() # Get start time\n",
        "\n",
        "while count < NUMBER_OF_QUESTIONS:\n",
        "    # 1. Generate two random single-digit integers\n",
        "    number1 = random.randint(0, 9)\n",
        "    number2 = random.randint(0, 9)\n",
        "\n",
        "    # 2. If number1 < number2, swap number1 with number2\n",
        "    if number1 < number2:\n",
        "        number1, number2 = number2, number1\n",
        "\n",
        "    # 3. Prompt the student to answer \"what is number1 - number2?\" \n",
        "    answer = eval(input(\"What is \" + str(number1) + \" - \" + \n",
        "        str(number2) + \"? \"))\n",
        "\n",
        "    # 5. Grade the answer and display the result\n",
        "    if number1 - number2 == answer:\n",
        "        print(\"金讚,You are correct!\")\n",
        "        correctCount += 1\n",
        "    else:\n",
        "        print(\"歹勢,Your answer is wrong.\\n\", number1, \"-\",\n",
        "            number2, \"should be\", (number1 - number2))\n",
        "\n",
        "    # Increase the count\n",
        "    count += 1\n",
        "\n",
        "endTime = time.time() # Get end time\n",
        "testTime = int(endTime - startTime) # Get test time\n",
        "print(\"Correct count is\", correctCount, \"out of\", \n",
        "    NUMBER_OF_QUESTIONS, \"\\nTest time is\", testTime, \"seconds\")\n"
      ],
      "execution_count": 2,
      "outputs": [
        {
          "output_type": "stream",
          "text": [
            "What is 5 - 4? 6\n",
            "歹勢,Your answer is wrong.\n",
            " 5 - 4 should be 1\n",
            "What is 5 - 1? 4\n",
            "金讚,You are correct!\n",
            "What is 3 - 2? 1\n",
            "金讚,You are correct!\n",
            "What is 3 - 2? 8\n",
            "歹勢,Your answer is wrong.\n",
            " 3 - 2 should be 1\n",
            "What is 8 - 5? 6\n",
            "歹勢,Your answer is wrong.\n",
            " 8 - 5 should be 3\n",
            "Correct count is 2 out of 5 \n",
            "Test time is 41 seconds\n"
          ],
          "name": "stdout"
        }
      ]
    },
    {
      "metadata": {
        "id": "yuOexNjEOUfE",
        "colab_type": "text"
      },
      "cell_type": "markdown",
      "source": [
        "Chapter 5_practice 5.4"
      ]
    }
  ]
}