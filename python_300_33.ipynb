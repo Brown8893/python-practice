{
  "nbformat": 4,
  "nbformat_minor": 0,
  "metadata": {
    "colab": {
      "name": "python_300_33.ipynb",
      "version": "0.3.2",
      "provenance": [],
      "include_colab_link": true
    },
    "kernelspec": {
      "name": "python3",
      "display_name": "Python 3"
    }
  },
  "cells": [
    {
      "cell_type": "markdown",
      "metadata": {
        "id": "view-in-github",
        "colab_type": "text"
      },
      "source": [
        "<a href=\"https://colab.research.google.com/github/Brown8893/python-practice/blob/master/python_300_33.ipynb\" target=\"_parent\"><img src=\"https://colab.research.google.com/assets/colab-badge.svg\" alt=\"Open In Colab\"/></a>"
      ]
    },
    {
      "metadata": {
        "id": "RHun0n7JIVHh",
        "colab_type": "code",
        "colab": {
          "base_uri": "https://localhost:8080/",
          "height": 90
        },
        "outputId": "d9049784-fbbc-4190-afa2-dad8114cb406"
      },
      "cell_type": "code",
      "source": [
        "#我的python練習(Ch5-5.1)\n",
        "import random\n",
        "\n",
        "# 1. Generate two random single-digit integers\n",
        "number1 = random.randint(0, 9)\n",
        "number2 = random.randint(0, 9)\n",
        "\n",
        "# 2. If number1 < number2, swap number1 with number2\n",
        "if number1 < number2:\n",
        "    number1, number2 = number2, number1\n",
        "\n",
        "# 3. Prompt the student to answer What is number1 - number2?\n",
        "answer = eval(input(\"What is \" + str(number1) + \" - \" \n",
        "    + str(number2) + \"? \"))\n",
        "\n",
        "# 5. Repeatedly ask the user the question until it is correct\n",
        "while number1 - number2 != answer:\n",
        "    answer = eval(input(\"Wrong answer. Try again. What is \" \n",
        "        + str(number1) + \" - \" + str(number2) + \"? \"))\n",
        "  \n",
        "print(\"You got it!\")"
      ],
      "execution_count": 2,
      "outputs": [
        {
          "output_type": "stream",
          "text": [
            "What is 8 - 4? 2626\n",
            "Wrong answer. Try again. What is 8 - 4? 50\n",
            "Wrong answer. Try again. What is 8 - 4? 4\n",
            "You got it!\n"
          ],
          "name": "stdout"
        }
      ]
    },
    {
      "metadata": {
        "id": "j-M12ZBOIuRs",
        "colab_type": "text"
      },
      "cell_type": "markdown",
      "source": [
        "Chapter 5_practice 5.1"
      ]
    }
  ]
}