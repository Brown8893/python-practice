{
  "nbformat": 4,
  "nbformat_minor": 0,
  "metadata": {
    "colab": {
      "name": "python_300_34.ipynb",
      "version": "0.3.2",
      "provenance": [],
      "include_colab_link": true
    },
    "kernelspec": {
      "name": "python3",
      "display_name": "Python 3"
    }
  },
  "cells": [
    {
      "cell_type": "markdown",
      "metadata": {
        "id": "view-in-github",
        "colab_type": "text"
      },
      "source": [
        "<a href=\"https://colab.research.google.com/github/Brown8893/python-practice/blob/master/python_300_34.ipynb\" target=\"_parent\"><img src=\"https://colab.research.google.com/assets/colab-badge.svg\" alt=\"Open In Colab\"/></a>"
      ]
    },
    {
      "metadata": {
        "id": "BJTpox0jMFq0",
        "colab_type": "code",
        "colab": {
          "base_uri": "https://localhost:8080/",
          "height": 72
        },
        "outputId": "e9e7c59b-e3b0-43f2-cae8-4219d31957c6"
      },
      "cell_type": "code",
      "source": [
        "#我的python練習(Ch5-5.2)\n",
        "import random\n",
        "\n",
        "# Generate a random number to be guessed\n",
        "number = random.randint(1, 100)\n",
        "\n",
        "print(\"Guess a magic number between 0 and 100\")\n",
        "\n",
        "# Prompt the user to guess the number\n",
        "guess = eval(input(\"Enter your guess: \"))\n",
        "\n",
        "if guess == number:\n",
        "    print(\"Yes, the number is \" + str(number))\n",
        "elif guess > number:\n",
        "    print(\"Your guess is too high\")\n",
        "else:\n",
        "    print(\"Your guess is too low\")"
      ],
      "execution_count": 2,
      "outputs": [
        {
          "output_type": "stream",
          "text": [
            "Guess a magic number between 0 and 100\n",
            "Enter your guess: 20\n",
            "Your guess is too low\n"
          ],
          "name": "stdout"
        }
      ]
    },
    {
      "metadata": {
        "id": "oUynJP-JMaK5",
        "colab_type": "text"
      },
      "cell_type": "markdown",
      "source": [
        "Chapter 5_practice 5.2"
      ]
    }
  ]
}