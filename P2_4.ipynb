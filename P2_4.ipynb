{
  "nbformat": 4,
  "nbformat_minor": 0,
  "metadata": {
    "colab": {
      "name": "P2_4.ipynb",
      "version": "0.3.2",
      "provenance": [],
      "include_colab_link": true
    },
    "kernelspec": {
      "name": "python3",
      "display_name": "Python 3"
    }
  },
  "cells": [
    {
      "cell_type": "markdown",
      "metadata": {
        "id": "view-in-github",
        "colab_type": "text"
      },
      "source": [
        "<a href=\"https://colab.research.google.com/github/Brown8893/python-practice/blob/master/P2_4.ipynb\" target=\"_parent\"><img src=\"https://colab.research.google.com/assets/colab-badge.svg\" alt=\"Open In Colab\"/></a>"
      ]
    },
    {
      "metadata": {
        "id": "umiT4iwKp9wl",
        "colab_type": "code",
        "colab": {
          "base_uri": "https://localhost:8080/",
          "height": 72
        },
        "outputId": "cbd22c6d-5ecc-48da-ba47-5efece7bba39"
      },
      "cell_type": "code",
      "source": [
        "dict = {'a': 12, 'b': 144, 'b': '13',  'c':'169'}\n",
        "print(dict['a'])\n",
        "print(dict['b'])\n",
        "print(dict['c'])"
      ],
      "execution_count": 5,
      "outputs": [
        {
          "output_type": "stream",
          "text": [
            "12\n",
            "13\n",
            "169\n"
          ],
          "name": "stdout"
        }
      ]
    },
    {
      "metadata": {
        "id": "PJaYaAFUqwvt",
        "colab_type": "text"
      },
      "cell_type": "markdown",
      "source": [
        "P2_4"
      ]
    }
  ]
}