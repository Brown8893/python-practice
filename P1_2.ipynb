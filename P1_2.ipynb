{
  "nbformat": 4,
  "nbformat_minor": 0,
  "metadata": {
    "colab": {
      "name": "P1_2.ipynb",
      "version": "0.3.2",
      "provenance": [],
      "include_colab_link": true
    },
    "kernelspec": {
      "name": "python3",
      "display_name": "Python 3"
    }
  },
  "cells": [
    {
      "cell_type": "markdown",
      "metadata": {
        "id": "view-in-github",
        "colab_type": "text"
      },
      "source": [
        "<a href=\"https://colab.research.google.com/github/Brown8893/python-practice/blob/master/P1_2.ipynb\" target=\"_parent\"><img src=\"https://colab.research.google.com/assets/colab-badge.svg\" alt=\"Open In Colab\"/></a>"
      ]
    },
    {
      "metadata": {
        "id": "YIS45L-uY7BI",
        "colab_type": "code",
        "colab": {
          "base_uri": "https://localhost:8080/",
          "height": 54
        },
        "outputId": "502b6fd8-6f8d-4a34-c85e-ae4deac848dd"
      },
      "cell_type": "code",
      "source": [
        "#!/usr/bin/env python\n",
        "#coding=utf-8\n",
        "\n",
        "# Prompt the user to enter three numbers\n",
        "number1, number2, number3 = eval(input(\"Enter three numbers separated by commas: \"))\n",
        "\n",
        "# Compute average\n",
        "average = (number1 + number2 + number3) / 3\n",
        "\n",
        "# Display result\n",
        "print(\"The average of\", number1, number2, number3, \"is\", average)"
      ],
      "execution_count": 1,
      "outputs": [
        {
          "output_type": "stream",
          "text": [
            "Enter three numbers separated by commas: 10,20,30\n",
            "The average of 10 20 30 is 20.0\n"
          ],
          "name": "stdout"
        }
      ]
    },
    {
      "metadata": {
        "id": "XIhxTDKzZDgA",
        "colab_type": "text"
      },
      "cell_type": "markdown",
      "source": [
        "P1_2"
      ]
    }
  ]
}