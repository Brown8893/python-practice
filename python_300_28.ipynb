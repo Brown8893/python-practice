{
  "nbformat": 4,
  "nbformat_minor": 0,
  "metadata": {
    "colab": {
      "name": "python_300_28.ipynb",
      "version": "0.3.2",
      "provenance": [],
      "include_colab_link": true
    },
    "kernelspec": {
      "name": "python3",
      "display_name": "Python 3"
    }
  },
  "cells": [
    {
      "cell_type": "markdown",
      "metadata": {
        "id": "view-in-github",
        "colab_type": "text"
      },
      "source": [
        "<a href=\"https://colab.research.google.com/github/Brown8893/python-practice/blob/master/python_300_28.ipynb\" target=\"_parent\"><img src=\"https://colab.research.google.com/assets/colab-badge.svg\" alt=\"Open In Colab\"/></a>"
      ]
    },
    {
      "metadata": {
        "id": "x0_TuACTGISL",
        "colab_type": "code",
        "colab": {
          "base_uri": "https://localhost:8080/",
          "height": 108
        },
        "outputId": "c5ba4c26-4de9-4066-cad1-ed0bcd2a78d0"
      },
      "cell_type": "code",
      "source": [
        "#我的python練習(Ch4-4.7)\n",
        "import sys\n",
        "\n",
        "# Prompt the user to enter filing status\n",
        "status = eval(input(\n",
        "    \"(0-single filer, 1-married jointly,\\n\" +\n",
        "    \"2-married separately, 3-head of household)\\n\" +\n",
        "    \"Enter the filing status: \"))\n",
        "\n",
        "# Prompt the user to enter taxable income\n",
        "income = eval(input(\"Enter the taxable income: \"))\n",
        "\n",
        "# Compute tax\n",
        "tax = 0\n",
        "\n",
        "if status == 0:  # Compute tax for single filers\n",
        "    if income <= 8350:\n",
        "        tax = income * 0.10\n",
        "    elif income <= 33950:\n",
        "        tax = 8350 * 0.10 + (income - 8350) * 0.15\n",
        "    elif income <= 82250:\n",
        "        tax = 8350 * 0.10 + (33950 - 8350) * 0.15 + \\\n",
        "            (income - 33950) * 0.25\n",
        "    elif income <= 171550:\n",
        "        tax = 8350 * 0.10 + (33950 - 8350) * 0.15 + \\\n",
        "            (82250 - 33950) * 0.25 + (income - 82250) * 0.28\n",
        "    elif income <= 372950:\n",
        "        tax = 8350 * 0.10 + (33950 - 8350) * 0.15 + \\\n",
        "            (82250 - 33950) * 0.25 + (171550 - 82250) * 0.28 + \\\n",
        "            (income - 171550) * 0.33\n",
        "    else:\n",
        "        tax = 8350 * 0.10 + (33950 - 8350) * 0.15 + \\\n",
        "              (82250 - 33950) * 0.25 + (171550 - 82250) * 0.28 + \\\n",
        "              (372950 - 171550) * 0.33 + (income - 372950) * 0.35;\n",
        "elif status == 1: # Compute tax for married file jointly\n",
        "    print(\"Left as exercise\")\n",
        "elif status == 2: # Compute tax for married separately\n",
        "    print(\"Left as exercise\")\n",
        "elif status == 3: # Compute tax for head of household\n",
        "    print(\"Left as exercise\")\n",
        "else:\n",
        "    print(\"Error: invalid status\")\n",
        "    sys.exit()\n",
        "\n",
        "# Display the result\n",
        "print(\"Tax is\", format(tax, \".2f\"))"
      ],
      "execution_count": 3,
      "outputs": [
        {
          "output_type": "stream",
          "text": [
            "(0-single filer, 1-married jointly,\n",
            "2-married separately, 3-head of household)\n",
            "Enter the filing status: 0\n",
            "Enter the taxable income: 60000\n",
            "Tax is 11187.50\n"
          ],
          "name": "stdout"
        }
      ]
    },
    {
      "metadata": {
        "id": "J-ZWsaF5GeWL",
        "colab_type": "text"
      },
      "cell_type": "markdown",
      "source": [
        "Chapter 4_practice 4.7"
      ]
    }
  ]
}