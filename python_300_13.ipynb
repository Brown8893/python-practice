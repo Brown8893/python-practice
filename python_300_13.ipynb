{
  "nbformat": 4,
  "nbformat_minor": 0,
  "metadata": {
    "colab": {
      "name": "python 300_13.ipynb",
      "version": "0.3.2",
      "provenance": [],
      "include_colab_link": true
    },
    "kernelspec": {
      "name": "python3",
      "display_name": "Python 3"
    }
  },
  "cells": [
    {
      "cell_type": "markdown",
      "metadata": {
        "id": "view-in-github",
        "colab_type": "text"
      },
      "source": [
        "<a href=\"https://colab.research.google.com/github/Brown8893/python-practice/blob/master/python_300_13.ipynb\" target=\"_parent\"><img src=\"https://colab.research.google.com/assets/colab-badge.svg\" alt=\"Open In Colab\"/></a>"
      ]
    },
    {
      "metadata": {
        "id": "yhJDAWMC97vh",
        "colab_type": "code",
        "colab": {
          "base_uri": "https://localhost:8080/",
          "height": 107
        },
        "outputId": "a2d6e59e-25ef-40aa-92c3-03ffb279fa9c"
      },
      "cell_type": "code",
      "source": [
        "#我的python練習(Ch2-2.8)\n",
        "# Enter yearly interest rate\n",
        "annualInterestRate = eval(input(\n",
        "  \"Enter annual interest rate, e.g., 8.25: \"))\n",
        "monthlyInterestRate = annualInterestRate / 1200\n",
        "\n",
        "# Enter number of years\n",
        "numberOfYears = eval(input(\n",
        "  \"Enter number of years as an integer, e.g., 5: \"))\n",
        "    \n",
        "# Enter loan amount\n",
        "loanAmount = eval(input(\"Enter loan amount, e.g., 120000.95: \"))\n",
        "    \n",
        "# Calculate payment\n",
        "monthlyPayment = loanAmount * monthlyInterestRate / (1\n",
        "  - 1 / (1 + monthlyInterestRate) ** (numberOfYears * 12))\n",
        "totalPayment = monthlyPayment * numberOfYears * 12\n",
        "\n",
        "# Display results\n",
        "print(\"The monthly payment is\", int(monthlyPayment * 100) / 100)\n",
        "print(\"The total payment is\", int(totalPayment * 100) /100)"
      ],
      "execution_count": 1,
      "outputs": [
        {
          "output_type": "stream",
          "text": [
            "Enter annual interest rate, e.g., 8.25: 4.25\n",
            "Enter number of years as an integer, e.g., 5: 3.65\n",
            "Enter loan amount, e.g., 120000.95: 260000\n",
            "The monthly payment is 6418.87\n",
            "The total payment is 281146.64\n"
          ],
          "name": "stdout"
        }
      ]
    },
    {
      "metadata": {
        "id": "ckHPZBi4-V5z",
        "colab_type": "text"
      },
      "cell_type": "markdown",
      "source": [
        "Chapter 2_practice 2.8"
      ]
    }
  ]
}