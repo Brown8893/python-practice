{
  "nbformat": 4,
  "nbformat_minor": 0,
  "metadata": {
    "colab": {
      "name": "python 300_18.ipynb",
      "version": "0.3.2",
      "provenance": [],
      "include_colab_link": true
    },
    "kernelspec": {
      "name": "python3",
      "display_name": "Python 3"
    }
  },
  "cells": [
    {
      "cell_type": "markdown",
      "metadata": {
        "id": "view-in-github",
        "colab_type": "text"
      },
      "source": [
        "<a href=\"https://colab.research.google.com/github/Brown8893/python-practice/blob/master/python_300_18.ipynb\" target=\"_parent\"><img src=\"https://colab.research.google.com/assets/colab-badge.svg\" alt=\"Open In Colab\"/></a>"
      ]
    },
    {
      "metadata": {
        "id": "RsZD-d6E-5Nn",
        "colab_type": "code",
        "colab": {
          "base_uri": "https://localhost:8080/",
          "height": 53
        },
        "outputId": "226fe3bd-5362-4495-8ff8-a46624c5af93"
      },
      "cell_type": "code",
      "source": [
        "#我的python練習(Ch3-3.2)\n",
        "import math\n",
        "\n",
        "x1, y1, x2, y2, x3, y3 = eval(input(\"Enter six coordinates of three points \\\n",
        "separated by commas like x1, y1, x2, y2, x3, y3: \"))\n",
        " \n",
        "a = math.sqrt((x2 - x3) * (x2 - x3) + (y2 - y3) * (y2 - y3))\n",
        "b = math.sqrt((x1 - x3) * (x1 - x3) + (y1 - y3) * (y1 - y3))\n",
        "c = math.sqrt((x1 - x2) * (x1 - x2) + (y1 - y2) * (y1 - y2))\n",
        "\n",
        "A = math.degrees(math.acos((a * a - b * b - c * c) / (-2 * b * c)))\n",
        "B = math.degrees(math.acos((b * b - a * a - c * c) / (-2 * a * c)))\n",
        "C = math.degrees(math.acos((c * c - b * b - a * a) / (-2 * a * b)))\n",
        "\n",
        "print(\"The three angles are \", round(A * 100) / 100.0,  \n",
        "    round(B * 100) / 100.0, round(C * 100) / 100.0)"
      ],
      "execution_count": 1,
      "outputs": [
        {
          "output_type": "stream",
          "text": [
            "Enter six coordinates of three points separated by commas like x1, y1, x2, y2, x3, y3: 2, 2, 4.5, 2, 5.5, 6.3\n",
            "The three angles are  50.86 103.09 26.05\n"
          ],
          "name": "stdout"
        }
      ]
    },
    {
      "metadata": {
        "id": "5JcEgAgBwsMQ",
        "colab_type": "text"
      },
      "cell_type": "markdown",
      "source": [
        "Chapter 3_practice 3.2"
      ]
    }
  ]
}